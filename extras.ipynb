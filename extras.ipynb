{
 "cells": [
  {
   "cell_type": "code",
   "execution_count": null,
   "id": "6f29e5a1",
   "metadata": {},
   "outputs": [],
   "source": [
    "!pip3 install pyautogui\n",
    "!pip3 install time\n",
    "!pip3 install pyperclip\n",
    "!pip3 install PyMsgBox"
   ]
  },
  {
   "cell_type": "code",
   "execution_count": null,
   "id": "568d788e",
   "metadata": {},
   "outputs": [],
   "source": [
    "import pyautogui\n",
    "import time\n",
    "import pymsgbox\n",
    "\n",
    "time.sleep(10)\n",
    "print(pyautogui.position())\n",
    "pyautogui.alert('Parou')\n",
    "\n",
    "time.sleep(10)\n",
    "print(pyautogui.position())\n",
    "pyautogui.alert('Parou')\n",
    "\n",
    "time.sleep(10)\n",
    "print(pyautogui.position())\n",
    "pyautogui.alert('Parou')"
   ]
  }
 ],
 "metadata": {
  "kernelspec": {
   "display_name": "Python 3 (ipykernel)",
   "language": "python",
   "name": "python3"
  },
  "language_info": {
   "codemirror_mode": {
    "name": "ipython",
    "version": 3
   },
   "file_extension": ".py",
   "mimetype": "text/x-python",
   "name": "python",
   "nbconvert_exporter": "python",
   "pygments_lexer": "ipython3",
   "version": "3.9.7"
  }
 },
 "nbformat": 4,
 "nbformat_minor": 5
}
